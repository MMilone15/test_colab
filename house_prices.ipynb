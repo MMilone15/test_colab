{
  "cells": [
    {
      "cell_type": "markdown",
      "metadata": {
        "id": "lMcr2HkWqj4S"
      },
      "source": [
        "## APPROCCIO ML"
      ]
    },
    {
      "cell_type": "code",
      "execution_count": null,
      "metadata": {
        "id": "SXje-0lag_Qr"
      },
      "outputs": [],
      "source": [
        "import pandas as pd\n",
        "\n",
        "import numpy as np\n",
        "\n",
        "from sklearn.model_selection import train_test_split, cross_val_score\n",
        "from sklearn.pipeline import Pipeline\n",
        "from sklearn.compose import ColumnTransformer\n",
        "from sklearn.impute import SimpleImputer\n",
        "from sklearn.preprocessing import OneHotEncoder, StandardScaler, OrdinalEncoder\n",
        "from sklearn.ensemble import RandomForestRegressor\n",
        "from sklearn.metrics import mean_absolute_error, make_scorer\n",
        "\n",
        "\n",
        "from sklearn.base import BaseEstimator, TransformerMixin\n",
        "from category_encoders.target_encoder import TargetEncoder\n",
        "\n",
        "import matplotlib.pyplot as plt\n",
        "import seaborn as sns\n",
        "\n",
        "from xgboost import XGBRegressor\n",
        "\n",
        "from tensorflow import keras\n",
        "from tensorflow.keras import layers, callbacks\n",
        "from tensorflow.keras.optimizers import Adam"
      ]
    },
    {
      "cell_type": "code",
      "execution_count": null,
      "metadata": {
        "id": "67RHUQrgkQUZ"
      },
      "outputs": [],
      "source": [
        "#Caricamento dataset da file\n",
        "train_set = pd.read_csv(\"C:/Users/marco/OneDrive/Desktop/Hackathon/House/train.csv\", index_col = 'Id')\n",
        "test_X = pd.read_csv(\"C:/Users/marco/OneDrive/Desktop/Hackathon/House/test.csv\", index_col = 'Id')\n",
        "# test_y = pd.read_csv(\"/content/drive/MyDrive/hackathon_colab/Houses Prices/sample_submission.csv\", index_col = 'Id')"
      ]
    },
    {
      "cell_type": "code",
      "execution_count": null,
      "metadata": {
        "id": "uOCeI9HSlb6W"
      },
      "outputs": [],
      "source": [
        "# Calcolo statistiche generali sul dataset\n",
        "train_set.info()"
      ]
    },
    {
      "cell_type": "code",
      "execution_count": null,
      "metadata": {
        "id": "6IJngy-FnNX6"
      },
      "outputs": [],
      "source": [
        "pd.set_option('display.max_columns', None)  # Mostra tutte le colonne\n",
        "pd.set_option('display.width', 1000)        # Aumenta la larghezza massima della riga\n",
        "train_set.describe(include='all')"
      ]
    },
    {
      "cell_type": "code",
      "execution_count": null,
      "metadata": {
        "id": "rh6o2_QSrwRi"
      },
      "outputs": [],
      "source": [
        "train_set =  train_set.drop(columns=['Alley','MasVnrType','FireplaceQu','PoolQC', 'Fence', 'MiscFeature'])\n",
        "test_X = test_X.drop(columns=['Alley','MasVnrType','FireplaceQu','PoolQC', 'Fence', 'MiscFeature'])"
      ]
    },
    {
      "cell_type": "code",
      "execution_count": null,
      "metadata": {
        "id": "mnl8OMMPzxIM"
      },
      "outputs": [],
      "source": [
        "# Correlazione variabili numeriche\n",
        "numeric_features = train_set.select_dtypes(include=[\"int64\", \"float64\"])\n",
        "correlation_matrix = numeric_features.corr()\n",
        "plt.figure(figsize=(20, 12))\n",
        "sns.heatmap(correlation_matrix, annot=True, cmap=\"coolwarm\", fmt=\".2f\", linewidths=0.5)\n",
        "plt.title(\"Matrice di Correlazione - Titanic\")\n",
        "plt.show()\n",
        "\n"
      ]
    },
    {
      "cell_type": "code",
      "execution_count": null,
      "metadata": {
        "id": "DMTH4qpBrg_i"
      },
      "outputs": [],
      "source": [
        "# Train e Validation Split\n",
        "y_drop = train_set.SalePrice\n",
        "\n",
        "# Applica la trasformazione logaritmica alla variabile target\n",
        "y_drop = np.log1p(y_drop)\n",
        "X_drop = train_set.drop(['SalePrice'], axis=1)\n",
        "X_train, X_val, y_train, y_val = train_test_split(X_drop, y_drop, test_size=0.2, random_state=26)"
      ]
    },
    {
      "cell_type": "markdown",
      "metadata": {
        "id": "CZ-ruGZ7q63F"
      },
      "source": [
        "Pipeline"
      ]
    },
    {
      "cell_type": "code",
      "execution_count": null,
      "metadata": {
        "colab": {
          "base_uri": "https://localhost:8080/"
        },
        "id": "NGFFmG34GS3-",
        "outputId": "72260bd1-562c-49bd-ce21-8848108a0e69"
      },
      "outputs": [
        {
          "name": "stdout",
          "output_type": "stream",
          "text": [
            "Colonne numeriche con valori nulli: ['LotFrontage', 'MasVnrArea', 'GarageYrBlt']\n",
            "Colonne categoriche con valori nulli: ['BsmtQual', 'BsmtCond', 'BsmtExposure', 'BsmtFinType1', 'BsmtFinType2', 'Electrical', 'GarageType', 'GarageFinish', 'GarageQual', 'GarageCond']\n"
          ]
        }
      ],
      "source": [
        "# Selezione colonne imputazione\n",
        "\n",
        "# Trova le colonne con valori nulli\n",
        "null_values = train_set.isnull().sum()\n",
        "cols_with_null = null_values[null_values > 0].index.tolist()\n",
        "\n",
        "# Separa le colonne nulle in numeriche e categoriche\n",
        "num_cols  = X_train[cols_with_null].select_dtypes(include=np.number).columns.tolist()\n",
        "cat_cols  = X_train[cols_with_null].select_dtypes(include='object').columns.tolist()\n",
        "\n",
        "print(\"Colonne numeriche con valori nulli:\", num_cols)\n",
        "print(\"Colonne categoriche con valori nulli:\", cat_cols)\n"
      ]
    },
    {
      "cell_type": "code",
      "execution_count": null,
      "metadata": {
        "colab": {
          "base_uri": "https://localhost:8080/"
        },
        "id": "Q92a9CCt1D8r",
        "outputId": "d9bbeac4-145e-40b3-cac7-e65d85cc72b2"
      },
      "outputs": [
        {
          "name": "stdout",
          "output_type": "stream",
          "text": [
            "Colonne numeriche del test set con null mancanti in num_cols: ['BsmtFinSF1', 'BsmtFinSF2', 'BsmtUnfSF', 'TotalBsmtSF', 'BsmtFullBath', 'BsmtHalfBath', 'GarageCars', 'GarageArea']\n",
            "Colonne categoriche del test set con null mancanti in cat_cols: ['MSZoning', 'Utilities', 'Exterior1st', 'Exterior2nd', 'KitchenQual', 'Functional', 'SaleType']\n",
            "\n",
            "Liste aggiornate:\n",
            "Colonne numeriche con valori nulli (aggiornate): ['LotFrontage', 'MasVnrArea', 'GarageYrBlt', 'BsmtFinSF1', 'BsmtFinSF2', 'BsmtUnfSF', 'TotalBsmtSF', 'BsmtFullBath', 'BsmtHalfBath', 'GarageCars', 'GarageArea']\n",
            "Colonne categoriche con valori nulli (aggiornate): ['BsmtQual', 'BsmtCond', 'BsmtExposure', 'BsmtFinType1', 'BsmtFinType2', 'Electrical', 'GarageType', 'GarageFinish', 'GarageQual', 'GarageCond', 'MSZoning', 'Utilities', 'Exterior1st', 'Exterior2nd', 'KitchenQual', 'Functional', 'SaleType']\n"
          ]
        }
      ],
      "source": [
        "# Trova le colonne del test set con valori nulli\n",
        "null_values_test = test_X.isnull().sum()\n",
        "cols_with_null_test = null_values_test[null_values_test > 0].index.tolist()\n",
        "\n",
        "# Separa le colonne nulle del test set in numeriche e categoriche\n",
        "num_cols_test = test_X[cols_with_null_test].select_dtypes(include=np.number).columns.tolist()\n",
        "cat_cols_test = test_X[cols_with_null_test].select_dtypes(include='object').columns.tolist()\n",
        "\n",
        "# Trova le colonne numeriche nel test set con null che non sono in num_cols\n",
        "missing_num_cols = [col for col in num_cols_test if col not in num_cols]\n",
        "\n",
        "# Trova le colonne categoriche nel test set con null che non sono in cat_cols\n",
        "missing_cat_cols = [col for col in cat_cols_test if col not in cat_cols]\n",
        "\n",
        "print(\"Colonne numeriche del test set con null mancanti in num_cols:\", missing_num_cols)\n",
        "print(\"Colonne categoriche del test set con null mancanti in cat_cols:\", missing_cat_cols)\n",
        "\n",
        "# Aggiungi le colonne mancanti alle liste originali (se necessario)\n",
        "num_cols.extend(missing_num_cols)\n",
        "cat_cols.extend(missing_cat_cols)\n",
        "\n",
        "print(\"\\nListe aggiornate:\")\n",
        "print(\"Colonne numeriche con valori nulli (aggiornate):\", num_cols)\n",
        "print(\"Colonne categoriche con valori nulli (aggiornate):\", cat_cols)"
      ]
    },
    {
      "cell_type": "code",
      "execution_count": null,
      "metadata": {
        "id": "GgQ1SNaoHp5F"
      },
      "outputs": [],
      "source": [
        "# Selezione colonne ordinal encoding\n",
        "\n",
        "ordinal_cols = [\n",
        "    'Utilities', 'LandSlope', 'ExterQual', 'ExterCond', 'BsmtQual', 'BsmtCond',\n",
        "    'BsmtExposure', 'BsmtFinType1', 'BsmtFinType2', 'HeatingQC', 'KitchenQual',\n",
        "    'Functional', 'GarageFinish', 'GarageQual', 'GarageCond'\n",
        "]\n",
        "\n",
        "ordinal_categories = [\n",
        "    ['ELO', 'NoSeWa', 'NoSewr', 'AllPub'],                 # Utilities\n",
        "    ['Sev', 'Mod', 'Gtl'],                                 # LandSlope\n",
        "    ['Po', 'Fa', 'TA', 'Gd', 'Ex'],                        # ExterQual\n",
        "    ['Po', 'Fa', 'TA', 'Gd', 'Ex'],                        # ExterCond\n",
        "    ['Na', 'Po', 'Fa', 'TA', 'Gd', 'Ex'],                  # BsmtQual\n",
        "    ['Na','Po', 'Fa', 'TA', 'Gd', 'Ex'],                  # BsmtCond\n",
        "    ['NA', 'No', 'Mn', 'Av', 'Gd'],                        # BsmtExposure\n",
        "    ['NA', 'Unf', 'LwQ','Rec', 'BLQ', 'ALQ', 'GLQ'],             # BsmtFinType1\n",
        "    ['NA', 'Unf', 'LwQ','Rec', 'BLQ', 'ALQ', 'GLQ'],             # BsmtFinType2\n",
        "    ['Po', 'Fa', 'TA', 'Gd', 'Ex'],                        # HeatingQC\n",
        "    ['Po', 'Fa', 'TA', 'Gd', 'Ex'],                        # KitchenQual\n",
        "    ['Sal', 'Sev', 'Maj2', 'Maj1', 'Mod', 'Min2', 'Min1', 'Typ'], # Functional\n",
        "    ['NA', 'Unf', 'RFn', 'Fin'],                           # GarageFinish\n",
        "    ['Na','Po', 'Fa', 'TA', 'Gd', 'Ex'],                  # GarageQual\n",
        "    ['Na','Po', 'Fa', 'TA', 'Gd', 'Ex']                   # GarageCond\n",
        "]\n",
        "\n",
        "target_enc_col = ['Neighborhood']"
      ]
    },
    {
      "cell_type": "code",
      "execution_count": null,
      "metadata": {
        "colab": {
          "base_uri": "https://localhost:8080/"
        },
        "id": "9QdfpTUjL_Tr",
        "outputId": "443a8b4a-b6a6-4f47-f9b0-60ce4bc91717"
      },
      "outputs": [
        {
          "name": "stdout",
          "output_type": "stream",
          "text": [
            "Colonne per One-Hot Encoding: ['MSZoning', 'Street', 'LotShape', 'LandContour', 'LotConfig', 'Condition1', 'Condition2', 'BldgType', 'HouseStyle', 'RoofStyle', 'RoofMatl', 'Exterior1st', 'Exterior2nd', 'Foundation', 'Heating', 'CentralAir', 'Electrical', 'GarageType', 'PavedDrive', 'SaleType', 'SaleCondition']\n"
          ]
        }
      ],
      "source": [
        "# Seleziona le colonne di tipo 'object'\n",
        "all_object_cols = X_train.select_dtypes(include='object').columns.tolist()\n",
        "\n",
        "# Converti le liste in set per una ricerca efficiente\n",
        "ordinal_cols_set = set(ordinal_cols)\n",
        "target_enc_col_set = set(target_enc_col)\n",
        "\n",
        "# Inizializza la lista per le colonne per One-Hot Encoding\n",
        "onehot_cols = []\n",
        "\n",
        "# Itera sulle colonne di tipo 'object' e aggiungi quelle che non sono in ordinal_cols o target_enc_col\n",
        "for col in all_object_cols:\n",
        "    if col not in ordinal_cols_set and col not in target_enc_col_set:\n",
        "        onehot_cols.append(col)\n",
        "\n",
        "print(\"Colonne per One-Hot Encoding:\", onehot_cols)"
      ]
    },
    {
      "cell_type": "code",
      "execution_count": null,
      "metadata": {
        "id": "NxaX5HW7MWVG"
      },
      "outputs": [],
      "source": [
        "# Pipeline numeriche\n",
        "numeric_pipeline = Pipeline(steps=[\n",
        "    ('imputer', SimpleImputer(strategy='median'))\n",
        "])\n",
        "\n",
        "# Pipeline categoriche con imputazione\n",
        "categorical_pipeline = Pipeline(steps=[\n",
        "    ('imputer', SimpleImputer(strategy='most_frequent')),\n",
        "    ('onehot', OneHotEncoder(handle_unknown='ignore'))\n",
        "])\n",
        "\n",
        "# Pipeline solo one-hot (senza imputazione)\n",
        "onehot_only_pipeline = Pipeline(steps=[\n",
        "    ('onehot', OneHotEncoder(handle_unknown='ignore'))\n",
        "])\n",
        "\n",
        "# Pipeline ordinali\n",
        "ordinal_pipeline = Pipeline(steps=[\n",
        "    ('imputer', SimpleImputer(strategy='most_frequent')),\n",
        "    ('ordinal', OrdinalEncoder(categories=ordinal_categories))\n",
        "])\n",
        "\n",
        "# Pipeline target encoding\n",
        "target_pipeline = Pipeline(steps=[\n",
        "    ('imputer', SimpleImputer(strategy='most_frequent')),\n",
        "    ('target_enc', TargetEncoder())\n",
        "])"
      ]
    },
    {
      "cell_type": "code",
      "execution_count": null,
      "metadata": {
        "id": "npKbZlGnjsbF"
      },
      "outputs": [],
      "source": [
        "\n",
        "# Preprocessor per le colonne\n",
        "preprocessor = ColumnTransformer(\n",
        "    transformers=[\n",
        "        ('num', numeric_pipeline, num_cols),\n",
        "        ('cat', categorical_pipeline, cat_cols),\n",
        "        ('onehot_only', onehot_only_pipeline, onehot_cols),\n",
        "        ('ord', ordinal_pipeline, ordinal_cols),\n",
        "        ('target', target_pipeline, target_enc_col),\n",
        "    ],\n",
        "    remainder='passthrough'  # Mantieni le altre colonne intatte\n",
        ")\n",
        "\n",
        "\n",
        "colsample_bytree = 0.7203513239267079\n",
        "learning_rate = 0.06696809887549353\n",
        "max_depth = 3\n",
        "n_estimators = 286\n",
        "subsample = 0.8438257335919588\n",
        "random_state = 26\n",
        "\n",
        "# model = XGBRegressor(colsample_bytree=colsample_bytree, learning_rate=learning_rate, max_depth=max_depth, n_estimators=n_estimators, subsample=subsample, random_state=random_state)\n",
        "\n",
        "model = RandomForestRegressor(random_state=26)\n",
        "\n",
        "# model = DecisionTreeRegressor(max_depth=10)\n",
        "\n",
        "# Crea la pipeline con il preprocessor e il modello Random Forest\n",
        "pipeline = Pipeline(steps=[\n",
        "    ('preprocessor', preprocessor),\n",
        "    ('classifier', model)\n",
        "])"
      ]
    },
    {
      "cell_type": "code",
      "execution_count": null,
      "metadata": {
        "colab": {
          "base_uri": "https://localhost:8080/"
        },
        "id": "2mvn-uNjq5c_",
        "outputId": "4bdfd627-9e2e-4491-93f5-50d118efd4fe"
      },
      "outputs": [
        {
          "name": "stdout",
          "output_type": "stream",
          "text": [
            "Root Mean Squared Error: 0.14363087281336664\n"
          ]
        }
      ],
      "source": [
        "# Addestra la pipeline sui dati di training\n",
        "from sklearn.metrics import mean_squared_error\n",
        "pipeline.fit(X_train, y_train)\n",
        "\n",
        "# Fai previsioni sui dati di validation\n",
        "y_pred_val = pipeline.predict(X_val)\n",
        "\n",
        "# Calcola il Mean Squared Error (MSE)\n",
        "mse_val = mean_squared_error(y_val, y_pred_val)\n",
        "\n",
        "# Calcola il Root Mean Squared Error (RMSE)\n",
        "rmse_val = np.sqrt(mse_val)\n",
        "\n",
        "# Stampa il RMSE sui dati di validation\n",
        "print(f\"Root Mean Squared Error: {rmse_val}\")"
      ]
    },
    {
      "cell_type": "markdown",
      "metadata": {
        "id": "FzIHWAOprCVi"
      },
      "source": [
        "Testing"
      ]
    },
    {
      "cell_type": "code",
      "execution_count": null,
      "metadata": {
        "colab": {
          "base_uri": "https://localhost:8080/"
        },
        "id": "noe7kM5Cl6iA",
        "outputId": "b5666fc8-2534-457b-b5ee-e52464629fe5"
      },
      "outputs": [
        {
          "name": "stdout",
          "output_type": "stream",
          "text": [
            "Mean Absolute Error: 55371.7109375\n"
          ]
        }
      ],
      "source": [
        "y_pred_test = pipeline.predict(test_X)\n",
        "\n",
        "# Calcola l'accuracy score\n",
        "mae_test = mean_absolute_error(test_y,y_pred_test)\n",
        "# Stampa l'accuracy score\n",
        "print(f\"Mean Absolute Error: {mae_test}\")"
      ]
    },
    {
      "cell_type": "code",
      "execution_count": null,
      "metadata": {
        "id": "fvLsM8vvsrAy"
      },
      "outputs": [],
      "source": [
        "# Creazione submission\n",
        "\n",
        "predictions_df = pd.DataFrame({'Id': test_X.index, 'SalePrice': y_pred_test})\n",
        "\n",
        "predictions_df.to_csv('/content/drive/MyDrive/hackathon_colab/Houses Prices/submission.csv', index=False)"
      ]
    },
    {
      "cell_type": "markdown",
      "metadata": {
        "id": "92nhP34LLuYK"
      },
      "source": [
        "Grid Search/RandomizedSearchCV"
      ]
    },
    {
      "cell_type": "code",
      "execution_count": null,
      "metadata": {
        "colab": {
          "base_uri": "https://localhost:8080/"
        },
        "id": "R56fJwRmMDPi",
        "outputId": "7653cb84-3988-4979-fefc-6897f8a58b4f"
      },
      "outputs": [
        {
          "name": "stdout",
          "output_type": "stream",
          "text": [
            "Fitting 5 folds for each of 108 candidates, totalling 540 fits\n",
            "Migliori parametri: {'classifier__colsample_bytree': 0.7, 'classifier__learning_rate': 0.1, 'classifier__max_depth': 3, 'classifier__n_estimators': 300, 'classifier__subsample': 0.7}\n",
            "RMSE migliore (negativo): -25381.3859375\n"
          ]
        }
      ],
      "source": [
        "from sklearn.model_selection import GridSearchCV\n",
        "\n",
        "# Definisci la griglia dei parametri per XGBRegressor\n",
        "param_grid = {\n",
        "    'classifier__n_estimators': [100, 200, 300],\n",
        "    'classifier__learning_rate': [0.01, 0.05, 0.1],\n",
        "    'classifier__max_depth': [3, 5, 7],\n",
        "    'classifier__subsample': [0.7, 1.0],\n",
        "    'classifier__colsample_bytree': [0.7, 1.0],\n",
        "}\n",
        "\n",
        "# Grid search con cross-validation\n",
        "grid_search = GridSearchCV(\n",
        "    pipeline,\n",
        "    param_grid,\n",
        "    cv=5,\n",
        "    scoring='neg_root_mean_squared_error',\n",
        "    verbose=1,\n",
        "    n_jobs=-1\n",
        ")\n",
        "\n",
        "grid_search.fit(X_train, y_train)\n",
        "\n",
        "# Migliori parametri\n",
        "print(\"Migliori parametri:\", grid_search.best_params_)\n",
        "print(\"RMSE migliore (negativo):\", grid_search.best_score_)\n"
      ]
    },
    {
      "cell_type": "code",
      "execution_count": null,
      "metadata": {
        "colab": {
          "base_uri": "https://localhost:8080/"
        },
        "id": "tOoiMIsLL0OT",
        "outputId": "7c63de95-5c55-40f0-e609-e55ad9ac2c91"
      },
      "outputs": [
        {
          "name": "stdout",
          "output_type": "stream",
          "text": [
            "Fitting 5 folds for each of 40 candidates, totalling 200 fits\n",
            "Migliori parametri: {'classifier__colsample_bytree': np.float64(0.7203513239267079), 'classifier__learning_rate': np.float64(0.06696809887549353), 'classifier__max_depth': 3, 'classifier__n_estimators': 286, 'classifier__subsample': np.float64(0.8438257335919588)}\n"
          ]
        }
      ],
      "source": [
        "from sklearn.model_selection import RandomizedSearchCV\n",
        "from scipy.stats import uniform, randint\n",
        "\n",
        "param_dist = {\n",
        "    'classifier__n_estimators': randint(100, 400),\n",
        "    'classifier__learning_rate': uniform(0.01, 0.2),\n",
        "    'classifier__max_depth': randint(3, 10),\n",
        "    'classifier__subsample': uniform(0.6, 0.4),\n",
        "    'classifier__colsample_bytree': uniform(0.6, 0.4),\n",
        "}\n",
        "\n",
        "random_search = RandomizedSearchCV(\n",
        "    pipeline,\n",
        "    param_distributions=param_dist,\n",
        "    n_iter=40,\n",
        "    cv=5,\n",
        "    scoring='neg_root_mean_squared_error',\n",
        "    verbose=1,\n",
        "    n_jobs=-1,\n",
        "    random_state=42\n",
        ")\n",
        "\n",
        "random_search.fit(X_train, y_train)\n",
        "\n",
        "print(\"Migliori parametri:\", random_search.best_params_)\n",
        "print(\"RMSE migliore (negativo):\", random_search.best_score_)\n"
      ]
    },
    {
      "cell_type": "markdown",
      "metadata": {
        "id": "HbZU0i2Qq0ip"
      },
      "source": [
        "Cross-Validation"
      ]
    },
    {
      "cell_type": "code",
      "execution_count": null,
      "metadata": {
        "colab": {
          "base_uri": "https://localhost:8080/"
        },
        "id": "yiCbZIibpzxt",
        "outputId": "2726b7d5-3ce7-4270-bd14-077bda6bda0f"
      },
      "outputs": [
        {
          "name": "stdout",
          "output_type": "stream",
          "text": [
            "RMSE scores for each fold: [0.1108265  0.14090233 0.12969418 0.11340121 0.12928505]\n",
            "Average RMSE: 0.12482185512636139\n"
          ]
        }
      ],
      "source": [
        "\n",
        "from sklearn.model_selection import cross_val_score\n",
        "\n",
        "# Usa 'neg_root_mean_squared_error' per la cross-validation\n",
        "scores_rmse = cross_val_score(pipeline, X_drop, y_drop,\n",
        "                              cv=5,\n",
        "                              scoring='neg_root_mean_squared_error')\n",
        "\n",
        "# Converti i punteggi negativi in RMSE positivi\n",
        "rmse_scores = -scores_rmse\n",
        "\n",
        "print(\"RMSE scores for each fold:\", rmse_scores)\n",
        "print(\"Average RMSE:\", rmse_scores.mean())\n"
      ]
    },
    {
      "cell_type": "markdown",
      "metadata": {
        "id": "Bj3gS12apLwH"
      },
      "source": [
        "# Rete Neurale"
      ]
    },
    {
      "cell_type": "code",
      "execution_count": null,
      "metadata": {
        "colab": {
          "base_uri": "https://localhost:8080/"
        },
        "id": "hI_xvbTtxFpl",
        "outputId": "b69f7f4c-3e78-4ba5-8a8a-3466755c3b0c"
      },
      "outputs": [
        {
          "name": "stderr",
          "output_type": "stream",
          "text": [
            "/usr/local/lib/python3.11/dist-packages/keras/src/layers/core/dense.py:87: UserWarning: Do not pass an `input_shape`/`input_dim` argument to a layer. When using Sequential models, prefer using an `Input(shape)` object as the first layer in the model instead.\n",
            "  super().__init__(activity_regularizer=activity_regularizer, **kwargs)\n"
          ]
        }
      ],
      "source": [
        "import tensorflow as tf\n",
        "from tensorflow.keras import backend as K\n",
        "from tensorflow.keras.optimizers import Adam\n",
        "\n",
        "def rmse(y_true, y_pred):\n",
        "    y_true = K.cast(y_true, 'float32')  # cast esplicito a float32\n",
        "    return K.sqrt(K.mean(K.square(y_pred - y_true)))\n",
        "\n",
        "early_stopping = callbacks.EarlyStopping(\n",
        "    min_delta=0.01, # minimium amount of change to count as an improvement\n",
        "    patience=15, # how many epochs to wait before stopping\n",
        "    restore_best_weights=True,\n",
        ")\n",
        "\n",
        "model = keras.Sequential([\n",
        "    layers.Dense(128, activation='relu', input_shape=[319]),\n",
        "    layers.BatchNormalization(),\n",
        "    layers.Dropout(0.5),\n",
        "    layers.Dense(64, activation='relu'),\n",
        "    layers.BatchNormalization(),\n",
        "    layers.Dropout(0.5),\n",
        "    layers.Dense(32, activation='relu'),\n",
        "    layers.BatchNormalization(),\n",
        "    layers.Dense(1)\n",
        "])\n",
        "\n",
        "\n",
        "\n",
        "model.compile(\n",
        "    optimizer=Adam(learning_rate=0.0001),\n",
        "    loss=rmse,           # loss personalizzata RMSE\n",
        "    metrics=[rmse]       # metrica RMSE\n",
        ")\n"
      ]
    },
    {
      "cell_type": "code",
      "execution_count": null,
      "metadata": {
        "id": "h83PUZm5r0rV"
      },
      "outputs": [],
      "source": [
        "# Pipeline con scaler per la rete neurale\n",
        "\n",
        "# Identify all numerical columns to apply scaling\n",
        "all_numeric_cols = X_train.select_dtypes(include=np.number).columns.tolist()\n",
        "\n",
        "\n",
        "# Modifica all_numeric_cols per escludere le colonne già in num_cols\n",
        "all_numeric_cols_for_scaling = [col for col in all_numeric_cols if col not in num_cols]\n",
        "\n",
        "# Pipeline numerica specifica per la rete neurale (imputazione + scaling)\n",
        "numeric_pipeline_nn = Pipeline(steps=[\n",
        "    ('imputer', SimpleImputer(strategy='median')),\n",
        "    ('scaler', StandardScaler())\n",
        "])\n",
        "\n",
        "# Create the second preprocessor with the updated structure\n",
        "preprocessor_nn = ColumnTransformer(\n",
        "    transformers=[\n",
        "        ('num_impute_scale', numeric_pipeline_nn, num_cols),\n",
        "        ('num_scale_only', StandardScaler(), all_numeric_cols_for_scaling),\n",
        "        ('cat', categorical_pipeline, cat_cols),\n",
        "        ('onehot_only', onehot_only_pipeline, onehot_cols),\n",
        "        ('ord', ordinal_pipeline, ordinal_cols),\n",
        "        ('target', onehot_only_pipeline, target_enc_col),\n",
        "    ],\n",
        "    remainder='passthrough'\n",
        ")\n"
      ]
    },
    {
      "cell_type": "code",
      "execution_count": null,
      "metadata": {
        "id": "Fytm_Oyq-cYN"
      },
      "outputs": [],
      "source": [
        "nn_X_train = X_train\n",
        "nn_valid = X_val"
      ]
    },
    {
      "cell_type": "code",
      "execution_count": null,
      "metadata": {
        "id": "_6Ua9p78yCiM"
      },
      "outputs": [],
      "source": [
        "nn_X_train = preprocessor_nn.fit_transform(nn_X_train, y_train)\n",
        "nn_valid = preprocessor_nn.transform(nn_valid)"
      ]
    },
    {
      "cell_type": "code",
      "execution_count": null,
      "metadata": {
        "colab": {
          "base_uri": "https://localhost:8080/",
          "height": 923
        },
        "id": "yCkSDL2jxKmB",
        "outputId": "cdd7aed6-21c6-43e8-8f96-33daf4b964cb"
      },
      "outputs": [
        {
          "name": "stdout",
          "output_type": "stream",
          "text": [
            "Best Validation Loss (RMSE): 0.2199\n",
            "Best Validation RMSE: 0.2174\n"
          ]
        },
        {
          "data": {
            "image/png": "[encoded data removed]",
            "text/plain": [
              "<Figure size 640x480 with 1 Axes>"
            ]
          },
          "metadata": {},
          "output_type": "display_data"
        },
        {
          "data": {
            "image/png": "[encoded data removed]",
            "text/plain": [
              "<Figure size 640x480 with 1 Axes>"
            ]
          },
          "metadata": {},
          "output_type": "display_data"
        }
      ],
      "source": [
        "# Seed per riproducibilità\n",
        "keras.utils.set_random_seed(26)\n",
        "\n",
        "history = model.fit(\n",
        "    nn_X_train, y_train,\n",
        "    validation_data=(nn_valid, y_val),\n",
        "    batch_size=64,\n",
        "    epochs=500,\n",
        "    callbacks=[early_stopping],\n",
        "    verbose=0,  # turn off training log\n",
        ")\n",
        "\n",
        "history_df = pd.DataFrame(history.history)\n",
        "\n",
        "# Grafica la loss (RMSE)\n",
        "history_df.loc[:, ['loss', 'val_loss']].plot(title='Loss (RMSE)')\n",
        "\n",
        "# Grafica anche la metrica RMSE\n",
        "history_df.loc[:, ['rmse', 'val_rmse']].plot(title='RMSE metric')\n",
        "\n",
        "print((\"Best Validation Loss (RMSE): {:0.4f}\" +\\\n",
        "       \"\\nBest Validation RMSE: {:0.4f}\").format(\n",
        "           history_df['val_loss'].min(),\n",
        "           history_df['val_rmse'].min()))"
      ]
    },
    {
      "cell_type": "code",
      "execution_count": null,
      "metadata": {
        "colab": {
          "base_uri": "https://localhost:8080/"
        },
        "id": "PKnvIApv7lW_",
        "outputId": "3042a595-4f3d-4767-bde0-ad284b9f43a5"
      },
      "outputs": [
        {
          "name": "stdout",
          "output_type": "stream",
          "text": [
            "\u001b[1m46/46\u001b[0m \u001b[32m━━━━━━━━━━━━━━━━━━━━\u001b[0m\u001b[37m\u001b[0m \u001b[1m0s\u001b[0m 5ms/step\n",
            "Mean Absolute Error sul test set (Rete Neurale): 49225.9296875\n"
          ]
        }
      ],
      "source": [
        "# Prepara i dati di test\n",
        "nn_test = preprocessor_nn.transform(test_X)\n",
        "\n",
        "# Fai previsioni sul test set\n",
        "y_pred_nn = model.predict(nn_test)\n",
        "\n",
        "\n",
        "# Calcola il Mean Absolute Error (MAE)\n",
        "# Assicurati che test_y contenga i valori target reali per il test set\n",
        "\n",
        "mae_test_nn = mean_absolute_error(test_y, y_pred_nn)\n",
        "\n",
        "# Stampa il MAE\n",
        "print(f\"Mean Absolute Error sul test set (Rete Neurale): {mae_test_nn}\")"
      ]
    },
    {
      "cell_type": "code",
      "execution_count": null,
      "metadata": {
        "colab": {
          "base_uri": "https://localhost:8080/"
        },
        "id": "LYebep8Z70mG",
        "outputId": "33b67d7f-d38f-4d73-a83a-c14ec5183611"
      },
      "outputs": [
        {
          "name": "stdout",
          "output_type": "stream",
          "text": [
            "File di submission per la rete neurale creato: submission_nn.csv\n"
          ]
        }
      ],
      "source": [
        "# Creazione del DataFrame di submission per la rete neurale\n",
        "predictions_nn_df = pd.DataFrame({'Id': test_X.index, 'SalePrice': y_pred_nn.flatten()})\n",
        "\n",
        "# Salva il file di submission\n",
        "predictions_nn_df.to_csv('/content/drive/MyDrive/hackathon_colab/Houses Prices/submission_nn.csv', index=False)\n",
        "\n",
        "print(\"File di submission per la rete neurale creato: submission_nn.csv\")"
      ]
    },
    {
      "cell_type": "markdown",
      "source": [
        "# PROVIAMO AD INSERIRE ROBA DA COLAB SU GIT"
      ],
      "metadata": {
        "id": "gcQeYBTcVXVo"
      }
    },
    {
      "cell_type": "code",
      "source": [
        "print(\"messo io\")"
      ],
      "metadata": {
        "colab": {
          "base_uri": "https://localhost:8080/"
        },
        "id": "MXBvX3xbVcTj",
        "outputId": "d957d9e0-5d42-413d-b629-271ce57d5f3f"
      },
      "execution_count": 1,
      "outputs": [
        {
          "output_type": "stream",
          "name": "stdout",
          "text": [
            "messo io\n"
          ]
        }
      ]
    }
  ],
  "metadata": {
    "colab": {
      "provenance": []
    },
    "kernelspec": {
      "display_name": "Python 3",
      "name": "python3"
    },
    "language_info": {
      "codemirror_mode": {
        "name": "ipython",
        "version": 3
      },
      "file_extension": ".py",
      "mimetype": "text/x-python",
      "name": "python",
      "nbconvert_exporter": "python",
      "pygments_lexer": "ipython3",
      "version": "3.8.2"
    }
  },
  "nbformat": 4,
  "nbformat_minor": 0
}